{
 "cells": [
  {
   "cell_type": "code",
   "execution_count": 23,
   "id": "9b2e7faf",
   "metadata": {},
   "outputs": [],
   "source": [
    "import pandas as pd\n",
    "import numpy as np"
   ]
  },
  {
   "cell_type": "code",
   "execution_count": 33,
   "id": "1df57d07",
   "metadata": {},
   "outputs": [],
   "source": [
    "df = pd.read_csv('Uncleaned_employees_final_dataset.csv')"
   ]
  },
  {
   "cell_type": "code",
   "execution_count": 34,
   "id": "00a9e9bc",
   "metadata": {},
   "outputs": [
    {
     "data": {
      "text/html": [
       "<div>\n",
       "<style scoped>\n",
       "    .dataframe tbody tr th:only-of-type {\n",
       "        vertical-align: middle;\n",
       "    }\n",
       "\n",
       "    .dataframe tbody tr th {\n",
       "        vertical-align: top;\n",
       "    }\n",
       "\n",
       "    .dataframe thead th {\n",
       "        text-align: right;\n",
       "    }\n",
       "</style>\n",
       "<table border=\"1\" class=\"dataframe\">\n",
       "  <thead>\n",
       "    <tr style=\"text-align: right;\">\n",
       "      <th></th>\n",
       "      <th>employee_id</th>\n",
       "      <th>department</th>\n",
       "      <th>region</th>\n",
       "      <th>education</th>\n",
       "      <th>gender</th>\n",
       "      <th>recruitment_channel</th>\n",
       "      <th>no_of_trainings</th>\n",
       "      <th>age</th>\n",
       "      <th>previous_year_rating</th>\n",
       "      <th>length_of_service</th>\n",
       "      <th>KPIs_met_more_than_80</th>\n",
       "      <th>awards_won</th>\n",
       "      <th>avg_training_score</th>\n",
       "    </tr>\n",
       "  </thead>\n",
       "  <tbody>\n",
       "    <tr>\n",
       "      <th>0</th>\n",
       "      <td>8724</td>\n",
       "      <td>Technology</td>\n",
       "      <td>region_26</td>\n",
       "      <td>Bachelors</td>\n",
       "      <td>m</td>\n",
       "      <td>sourcing</td>\n",
       "      <td>1</td>\n",
       "      <td>24</td>\n",
       "      <td>NaN</td>\n",
       "      <td>1</td>\n",
       "      <td>1</td>\n",
       "      <td>0</td>\n",
       "      <td>77</td>\n",
       "    </tr>\n",
       "    <tr>\n",
       "      <th>1</th>\n",
       "      <td>74430</td>\n",
       "      <td>HR</td>\n",
       "      <td>region_4</td>\n",
       "      <td>Bachelors</td>\n",
       "      <td>f</td>\n",
       "      <td>other</td>\n",
       "      <td>1</td>\n",
       "      <td>31</td>\n",
       "      <td>3.0</td>\n",
       "      <td>5</td>\n",
       "      <td>0</td>\n",
       "      <td>0</td>\n",
       "      <td>51</td>\n",
       "    </tr>\n",
       "    <tr>\n",
       "      <th>2</th>\n",
       "      <td>72255</td>\n",
       "      <td>Sales &amp; Marketing</td>\n",
       "      <td>region_13</td>\n",
       "      <td>Bachelors</td>\n",
       "      <td>m</td>\n",
       "      <td>other</td>\n",
       "      <td>1</td>\n",
       "      <td>31</td>\n",
       "      <td>1.0</td>\n",
       "      <td>4</td>\n",
       "      <td>0</td>\n",
       "      <td>0</td>\n",
       "      <td>47</td>\n",
       "    </tr>\n",
       "    <tr>\n",
       "      <th>3</th>\n",
       "      <td>38562</td>\n",
       "      <td>Procurement</td>\n",
       "      <td>region_2</td>\n",
       "      <td>Bachelors</td>\n",
       "      <td>f</td>\n",
       "      <td>other</td>\n",
       "      <td>3</td>\n",
       "      <td>31</td>\n",
       "      <td>2.0</td>\n",
       "      <td>9</td>\n",
       "      <td>0</td>\n",
       "      <td>0</td>\n",
       "      <td>65</td>\n",
       "    </tr>\n",
       "    <tr>\n",
       "      <th>4</th>\n",
       "      <td>64486</td>\n",
       "      <td>Finance</td>\n",
       "      <td>region_29</td>\n",
       "      <td>Bachelors</td>\n",
       "      <td>m</td>\n",
       "      <td>sourcing</td>\n",
       "      <td>1</td>\n",
       "      <td>30</td>\n",
       "      <td>4.0</td>\n",
       "      <td>7</td>\n",
       "      <td>0</td>\n",
       "      <td>0</td>\n",
       "      <td>61</td>\n",
       "    </tr>\n",
       "  </tbody>\n",
       "</table>\n",
       "</div>"
      ],
      "text/plain": [
       "   employee_id         department     region  education gender  \\\n",
       "0         8724         Technology  region_26  Bachelors      m   \n",
       "1        74430                 HR   region_4  Bachelors      f   \n",
       "2        72255  Sales & Marketing  region_13  Bachelors      m   \n",
       "3        38562        Procurement   region_2  Bachelors      f   \n",
       "4        64486            Finance  region_29  Bachelors      m   \n",
       "\n",
       "  recruitment_channel  no_of_trainings  age  previous_year_rating  \\\n",
       "0            sourcing                1   24                   NaN   \n",
       "1               other                1   31                   3.0   \n",
       "2               other                1   31                   1.0   \n",
       "3               other                3   31                   2.0   \n",
       "4            sourcing                1   30                   4.0   \n",
       "\n",
       "   length_of_service  KPIs_met_more_than_80  awards_won  avg_training_score  \n",
       "0                  1                      1           0                  77  \n",
       "1                  5                      0           0                  51  \n",
       "2                  4                      0           0                  47  \n",
       "3                  9                      0           0                  65  \n",
       "4                  7                      0           0                  61  "
      ]
     },
     "execution_count": 34,
     "metadata": {},
     "output_type": "execute_result"
    }
   ],
   "source": [
    "df.head()"
   ]
  },
  {
   "cell_type": "code",
   "execution_count": 35,
   "id": "7ac0b26e",
   "metadata": {},
   "outputs": [
    {
     "name": "stdout",
     "output_type": "stream",
     "text": [
      "<class 'pandas.core.frame.DataFrame'>\n",
      "RangeIndex: 17417 entries, 0 to 17416\n",
      "Data columns (total 13 columns):\n",
      " #   Column                 Non-Null Count  Dtype  \n",
      "---  ------                 --------------  -----  \n",
      " 0   employee_id            17417 non-null  int64  \n",
      " 1   department             17417 non-null  object \n",
      " 2   region                 17417 non-null  object \n",
      " 3   education              16646 non-null  object \n",
      " 4   gender                 17417 non-null  object \n",
      " 5   recruitment_channel    17417 non-null  object \n",
      " 6   no_of_trainings        17417 non-null  int64  \n",
      " 7   age                    17417 non-null  int64  \n",
      " 8   previous_year_rating   16054 non-null  float64\n",
      " 9   length_of_service      17417 non-null  int64  \n",
      " 10  KPIs_met_more_than_80  17417 non-null  int64  \n",
      " 11  awards_won             17417 non-null  int64  \n",
      " 12  avg_training_score     17417 non-null  int64  \n",
      "dtypes: float64(1), int64(7), object(5)\n",
      "memory usage: 1.7+ MB\n"
     ]
    }
   ],
   "source": [
    "df.info()"
   ]
  },
  {
   "cell_type": "code",
   "execution_count": 36,
   "id": "3ea1500e",
   "metadata": {},
   "outputs": [
    {
     "data": {
      "text/plain": [
       "(17417, 13)"
      ]
     },
     "execution_count": 36,
     "metadata": {},
     "output_type": "execute_result"
    }
   ],
   "source": [
    "df.shape"
   ]
  },
  {
   "cell_type": "code",
   "execution_count": 37,
   "id": "3484b2e4",
   "metadata": {},
   "outputs": [],
   "source": [
    "df = df.drop_duplicates()"
   ]
  },
  {
   "cell_type": "code",
   "execution_count": 38,
   "id": "ead8c832",
   "metadata": {},
   "outputs": [
    {
     "name": "stdout",
     "output_type": "stream",
     "text": [
      "<class 'pandas.core.frame.DataFrame'>\n",
      "Int64Index: 17415 entries, 0 to 17416\n",
      "Data columns (total 13 columns):\n",
      " #   Column                 Non-Null Count  Dtype  \n",
      "---  ------                 --------------  -----  \n",
      " 0   employee_id            17415 non-null  int64  \n",
      " 1   department             17415 non-null  object \n",
      " 2   region                 17415 non-null  object \n",
      " 3   education              16644 non-null  object \n",
      " 4   gender                 17415 non-null  object \n",
      " 5   recruitment_channel    17415 non-null  object \n",
      " 6   no_of_trainings        17415 non-null  int64  \n",
      " 7   age                    17415 non-null  int64  \n",
      " 8   previous_year_rating   16052 non-null  float64\n",
      " 9   length_of_service      17415 non-null  int64  \n",
      " 10  KPIs_met_more_than_80  17415 non-null  int64  \n",
      " 11  awards_won             17415 non-null  int64  \n",
      " 12  avg_training_score     17415 non-null  int64  \n",
      "dtypes: float64(1), int64(7), object(5)\n",
      "memory usage: 1.9+ MB\n"
     ]
    }
   ],
   "source": [
    "df.info()"
   ]
  },
  {
   "cell_type": "code",
   "execution_count": 39,
   "id": "fe6e17dd",
   "metadata": {},
   "outputs": [
    {
     "data": {
      "text/plain": [
       "employee_id                 0\n",
       "department                  0\n",
       "region                      0\n",
       "education                 771\n",
       "gender                      0\n",
       "recruitment_channel         0\n",
       "no_of_trainings             0\n",
       "age                         0\n",
       "previous_year_rating     1363\n",
       "length_of_service           0\n",
       "KPIs_met_more_than_80       0\n",
       "awards_won                  0\n",
       "avg_training_score          0\n",
       "dtype: int64"
      ]
     },
     "execution_count": 39,
     "metadata": {},
     "output_type": "execute_result"
    }
   ],
   "source": [
    "df.isnull().sum()"
   ]
  },
  {
   "cell_type": "code",
   "execution_count": 40,
   "id": "b23ac8a9",
   "metadata": {},
   "outputs": [],
   "source": [
    "df = df.dropna(subset=['previous_year_rating'])"
   ]
  },
  {
   "cell_type": "code",
   "execution_count": 41,
   "id": "2fa346e5",
   "metadata": {},
   "outputs": [
    {
     "name": "stdout",
     "output_type": "stream",
     "text": [
      "<class 'pandas.core.frame.DataFrame'>\n",
      "Int64Index: 16052 entries, 1 to 17416\n",
      "Data columns (total 13 columns):\n",
      " #   Column                 Non-Null Count  Dtype  \n",
      "---  ------                 --------------  -----  \n",
      " 0   employee_id            16052 non-null  int64  \n",
      " 1   department             16052 non-null  object \n",
      " 2   region                 16052 non-null  object \n",
      " 3   education              15422 non-null  object \n",
      " 4   gender                 16052 non-null  object \n",
      " 5   recruitment_channel    16052 non-null  object \n",
      " 6   no_of_trainings        16052 non-null  int64  \n",
      " 7   age                    16052 non-null  int64  \n",
      " 8   previous_year_rating   16052 non-null  float64\n",
      " 9   length_of_service      16052 non-null  int64  \n",
      " 10  KPIs_met_more_than_80  16052 non-null  int64  \n",
      " 11  awards_won             16052 non-null  int64  \n",
      " 12  avg_training_score     16052 non-null  int64  \n",
      "dtypes: float64(1), int64(7), object(5)\n",
      "memory usage: 1.7+ MB\n"
     ]
    }
   ],
   "source": [
    "df.info()"
   ]
  },
  {
   "cell_type": "code",
   "execution_count": 42,
   "id": "56e3ed3a",
   "metadata": {},
   "outputs": [],
   "source": [
    "df = df.dropna(subset=['education'])"
   ]
  },
  {
   "cell_type": "code",
   "execution_count": 43,
   "id": "e246b363",
   "metadata": {},
   "outputs": [
    {
     "name": "stdout",
     "output_type": "stream",
     "text": [
      "<class 'pandas.core.frame.DataFrame'>\n",
      "Int64Index: 15422 entries, 1 to 17416\n",
      "Data columns (total 13 columns):\n",
      " #   Column                 Non-Null Count  Dtype  \n",
      "---  ------                 --------------  -----  \n",
      " 0   employee_id            15422 non-null  int64  \n",
      " 1   department             15422 non-null  object \n",
      " 2   region                 15422 non-null  object \n",
      " 3   education              15422 non-null  object \n",
      " 4   gender                 15422 non-null  object \n",
      " 5   recruitment_channel    15422 non-null  object \n",
      " 6   no_of_trainings        15422 non-null  int64  \n",
      " 7   age                    15422 non-null  int64  \n",
      " 8   previous_year_rating   15422 non-null  float64\n",
      " 9   length_of_service      15422 non-null  int64  \n",
      " 10  KPIs_met_more_than_80  15422 non-null  int64  \n",
      " 11  awards_won             15422 non-null  int64  \n",
      " 12  avg_training_score     15422 non-null  int64  \n",
      "dtypes: float64(1), int64(7), object(5)\n",
      "memory usage: 1.6+ MB\n"
     ]
    }
   ],
   "source": [
    "df.info()"
   ]
  },
  {
   "cell_type": "code",
   "execution_count": 44,
   "id": "c17ae339",
   "metadata": {},
   "outputs": [
    {
     "data": {
      "text/plain": [
       "(15422, 13)"
      ]
     },
     "execution_count": 44,
     "metadata": {},
     "output_type": "execute_result"
    }
   ],
   "source": [
    "df.shape"
   ]
  },
  {
   "cell_type": "code",
   "execution_count": 45,
   "id": "0ac8917b",
   "metadata": {},
   "outputs": [
    {
     "data": {
      "text/plain": [
       "Index(['employee_id', 'department', 'region', 'education', 'gender',\n",
       "       'recruitment_channel', 'no_of_trainings', 'age', 'previous_year_rating',\n",
       "       'length_of_service', 'KPIs_met_more_than_80', 'awards_won',\n",
       "       'avg_training_score'],\n",
       "      dtype='object')"
      ]
     },
     "execution_count": 45,
     "metadata": {},
     "output_type": "execute_result"
    }
   ],
   "source": [
    "df.columns"
   ]
  },
  {
   "cell_type": "code",
   "execution_count": 46,
   "id": "da299a8f",
   "metadata": {},
   "outputs": [],
   "source": [
    "df['region'] = df['region'].str.extract(r'(\\D*)(\\d+$)')[1]"
   ]
  },
  {
   "cell_type": "code",
   "execution_count": 48,
   "id": "ad3820c1",
   "metadata": {},
   "outputs": [
    {
     "data": {
      "text/html": [
       "<div>\n",
       "<style scoped>\n",
       "    .dataframe tbody tr th:only-of-type {\n",
       "        vertical-align: middle;\n",
       "    }\n",
       "\n",
       "    .dataframe tbody tr th {\n",
       "        vertical-align: top;\n",
       "    }\n",
       "\n",
       "    .dataframe thead th {\n",
       "        text-align: right;\n",
       "    }\n",
       "</style>\n",
       "<table border=\"1\" class=\"dataframe\">\n",
       "  <thead>\n",
       "    <tr style=\"text-align: right;\">\n",
       "      <th></th>\n",
       "      <th>employee_id</th>\n",
       "      <th>department</th>\n",
       "      <th>region</th>\n",
       "      <th>education</th>\n",
       "      <th>gender</th>\n",
       "      <th>recruitment_channel</th>\n",
       "      <th>no_of_trainings</th>\n",
       "      <th>age</th>\n",
       "      <th>previous_year_rating</th>\n",
       "      <th>length_of_service</th>\n",
       "      <th>KPIs_met_more_than_80</th>\n",
       "      <th>awards_won</th>\n",
       "      <th>avg_training_score</th>\n",
       "    </tr>\n",
       "  </thead>\n",
       "  <tbody>\n",
       "    <tr>\n",
       "      <th>1</th>\n",
       "      <td>74430</td>\n",
       "      <td>HR</td>\n",
       "      <td>4</td>\n",
       "      <td>Bachelors</td>\n",
       "      <td>f</td>\n",
       "      <td>other</td>\n",
       "      <td>1</td>\n",
       "      <td>31</td>\n",
       "      <td>3.0</td>\n",
       "      <td>5</td>\n",
       "      <td>0</td>\n",
       "      <td>0</td>\n",
       "      <td>51</td>\n",
       "    </tr>\n",
       "    <tr>\n",
       "      <th>2</th>\n",
       "      <td>72255</td>\n",
       "      <td>Sales &amp; Marketing</td>\n",
       "      <td>13</td>\n",
       "      <td>Bachelors</td>\n",
       "      <td>m</td>\n",
       "      <td>other</td>\n",
       "      <td>1</td>\n",
       "      <td>31</td>\n",
       "      <td>1.0</td>\n",
       "      <td>4</td>\n",
       "      <td>0</td>\n",
       "      <td>0</td>\n",
       "      <td>47</td>\n",
       "    </tr>\n",
       "    <tr>\n",
       "      <th>3</th>\n",
       "      <td>38562</td>\n",
       "      <td>Procurement</td>\n",
       "      <td>2</td>\n",
       "      <td>Bachelors</td>\n",
       "      <td>f</td>\n",
       "      <td>other</td>\n",
       "      <td>3</td>\n",
       "      <td>31</td>\n",
       "      <td>2.0</td>\n",
       "      <td>9</td>\n",
       "      <td>0</td>\n",
       "      <td>0</td>\n",
       "      <td>65</td>\n",
       "    </tr>\n",
       "    <tr>\n",
       "      <th>4</th>\n",
       "      <td>64486</td>\n",
       "      <td>Finance</td>\n",
       "      <td>29</td>\n",
       "      <td>Bachelors</td>\n",
       "      <td>m</td>\n",
       "      <td>sourcing</td>\n",
       "      <td>1</td>\n",
       "      <td>30</td>\n",
       "      <td>4.0</td>\n",
       "      <td>7</td>\n",
       "      <td>0</td>\n",
       "      <td>0</td>\n",
       "      <td>61</td>\n",
       "    </tr>\n",
       "    <tr>\n",
       "      <th>5</th>\n",
       "      <td>46232</td>\n",
       "      <td>Procurement</td>\n",
       "      <td>7</td>\n",
       "      <td>Bachelors</td>\n",
       "      <td>m</td>\n",
       "      <td>sourcing</td>\n",
       "      <td>1</td>\n",
       "      <td>36</td>\n",
       "      <td>3.0</td>\n",
       "      <td>2</td>\n",
       "      <td>0</td>\n",
       "      <td>0</td>\n",
       "      <td>68</td>\n",
       "    </tr>\n",
       "    <tr>\n",
       "      <th>6</th>\n",
       "      <td>54542</td>\n",
       "      <td>Finance</td>\n",
       "      <td>2</td>\n",
       "      <td>Bachelors</td>\n",
       "      <td>m</td>\n",
       "      <td>other</td>\n",
       "      <td>1</td>\n",
       "      <td>33</td>\n",
       "      <td>5.0</td>\n",
       "      <td>3</td>\n",
       "      <td>1</td>\n",
       "      <td>0</td>\n",
       "      <td>57</td>\n",
       "    </tr>\n",
       "    <tr>\n",
       "      <th>7</th>\n",
       "      <td>67269</td>\n",
       "      <td>Analytics</td>\n",
       "      <td>22</td>\n",
       "      <td>Bachelors</td>\n",
       "      <td>m</td>\n",
       "      <td>sourcing</td>\n",
       "      <td>2</td>\n",
       "      <td>36</td>\n",
       "      <td>3.0</td>\n",
       "      <td>3</td>\n",
       "      <td>0</td>\n",
       "      <td>0</td>\n",
       "      <td>85</td>\n",
       "    </tr>\n",
       "    <tr>\n",
       "      <th>8</th>\n",
       "      <td>66174</td>\n",
       "      <td>Technology</td>\n",
       "      <td>7</td>\n",
       "      <td>Masters &amp; above</td>\n",
       "      <td>m</td>\n",
       "      <td>other</td>\n",
       "      <td>1</td>\n",
       "      <td>51</td>\n",
       "      <td>4.0</td>\n",
       "      <td>11</td>\n",
       "      <td>0</td>\n",
       "      <td>0</td>\n",
       "      <td>75</td>\n",
       "    </tr>\n",
       "    <tr>\n",
       "      <th>9</th>\n",
       "      <td>76303</td>\n",
       "      <td>Technology</td>\n",
       "      <td>22</td>\n",
       "      <td>Bachelors</td>\n",
       "      <td>m</td>\n",
       "      <td>sourcing</td>\n",
       "      <td>1</td>\n",
       "      <td>29</td>\n",
       "      <td>5.0</td>\n",
       "      <td>2</td>\n",
       "      <td>1</td>\n",
       "      <td>0</td>\n",
       "      <td>76</td>\n",
       "    </tr>\n",
       "    <tr>\n",
       "      <th>10</th>\n",
       "      <td>60245</td>\n",
       "      <td>Sales &amp; Marketing</td>\n",
       "      <td>16</td>\n",
       "      <td>Bachelors</td>\n",
       "      <td>m</td>\n",
       "      <td>sourcing</td>\n",
       "      <td>2</td>\n",
       "      <td>40</td>\n",
       "      <td>5.0</td>\n",
       "      <td>12</td>\n",
       "      <td>1</td>\n",
       "      <td>0</td>\n",
       "      <td>50</td>\n",
       "    </tr>\n",
       "  </tbody>\n",
       "</table>\n",
       "</div>"
      ],
      "text/plain": [
       "    employee_id         department region        education gender  \\\n",
       "1         74430                 HR      4        Bachelors      f   \n",
       "2         72255  Sales & Marketing     13        Bachelors      m   \n",
       "3         38562        Procurement      2        Bachelors      f   \n",
       "4         64486            Finance     29        Bachelors      m   \n",
       "5         46232        Procurement      7        Bachelors      m   \n",
       "6         54542            Finance      2        Bachelors      m   \n",
       "7         67269          Analytics     22        Bachelors      m   \n",
       "8         66174         Technology      7  Masters & above      m   \n",
       "9         76303         Technology     22        Bachelors      m   \n",
       "10        60245  Sales & Marketing     16        Bachelors      m   \n",
       "\n",
       "   recruitment_channel  no_of_trainings  age  previous_year_rating  \\\n",
       "1                other                1   31                   3.0   \n",
       "2                other                1   31                   1.0   \n",
       "3                other                3   31                   2.0   \n",
       "4             sourcing                1   30                   4.0   \n",
       "5             sourcing                1   36                   3.0   \n",
       "6                other                1   33                   5.0   \n",
       "7             sourcing                2   36                   3.0   \n",
       "8                other                1   51                   4.0   \n",
       "9             sourcing                1   29                   5.0   \n",
       "10            sourcing                2   40                   5.0   \n",
       "\n",
       "    length_of_service  KPIs_met_more_than_80  awards_won  avg_training_score  \n",
       "1                   5                      0           0                  51  \n",
       "2                   4                      0           0                  47  \n",
       "3                   9                      0           0                  65  \n",
       "4                   7                      0           0                  61  \n",
       "5                   2                      0           0                  68  \n",
       "6                   3                      1           0                  57  \n",
       "7                   3                      0           0                  85  \n",
       "8                  11                      0           0                  75  \n",
       "9                   2                      1           0                  76  \n",
       "10                 12                      1           0                  50  "
      ]
     },
     "execution_count": 48,
     "metadata": {},
     "output_type": "execute_result"
    }
   ],
   "source": [
    "df.head(10)"
   ]
  },
  {
   "cell_type": "code",
   "execution_count": 49,
   "id": "425f9a09",
   "metadata": {},
   "outputs": [],
   "source": [
    "df.to_csv('cleaned_data.csv', encoding='utf-8', index=False)"
   ]
  },
  {
   "cell_type": "code",
   "execution_count": 50,
   "id": "cb75cffb",
   "metadata": {},
   "outputs": [
    {
     "name": "stdout",
     "output_type": "stream",
     "text": [
      "<class 'pandas.core.frame.DataFrame'>\n",
      "Int64Index: 15422 entries, 1 to 17416\n",
      "Data columns (total 13 columns):\n",
      " #   Column                 Non-Null Count  Dtype  \n",
      "---  ------                 --------------  -----  \n",
      " 0   employee_id            15422 non-null  int64  \n",
      " 1   department             15422 non-null  object \n",
      " 2   region                 15422 non-null  object \n",
      " 3   education              15422 non-null  object \n",
      " 4   gender                 15422 non-null  object \n",
      " 5   recruitment_channel    15422 non-null  object \n",
      " 6   no_of_trainings        15422 non-null  int64  \n",
      " 7   age                    15422 non-null  int64  \n",
      " 8   previous_year_rating   15422 non-null  float64\n",
      " 9   length_of_service      15422 non-null  int64  \n",
      " 10  KPIs_met_more_than_80  15422 non-null  int64  \n",
      " 11  awards_won             15422 non-null  int64  \n",
      " 12  avg_training_score     15422 non-null  int64  \n",
      "dtypes: float64(1), int64(7), object(5)\n",
      "memory usage: 1.6+ MB\n"
     ]
    }
   ],
   "source": [
    "df.info()"
   ]
  },
  {
   "cell_type": "code",
   "execution_count": 52,
   "id": "7fc603dc",
   "metadata": {},
   "outputs": [
    {
     "data": {
      "text/plain": [
       "(15422, 13)"
      ]
     },
     "execution_count": 52,
     "metadata": {},
     "output_type": "execute_result"
    }
   ],
   "source": [
    "df.shape"
   ]
  },
  {
   "cell_type": "code",
   "execution_count": null,
   "id": "c4c8cde5",
   "metadata": {},
   "outputs": [],
   "source": []
  }
 ],
 "metadata": {
  "kernelspec": {
   "display_name": "Python 3 (ipykernel)",
   "language": "python",
   "name": "python3"
  },
  "language_info": {
   "codemirror_mode": {
    "name": "ipython",
    "version": 3
   },
   "file_extension": ".py",
   "mimetype": "text/x-python",
   "name": "python",
   "nbconvert_exporter": "python",
   "pygments_lexer": "ipython3",
   "version": "3.10.9"
  }
 },
 "nbformat": 4,
 "nbformat_minor": 5
}
